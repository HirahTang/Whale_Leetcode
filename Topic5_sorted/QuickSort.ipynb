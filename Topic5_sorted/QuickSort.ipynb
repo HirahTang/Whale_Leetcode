{
 "cells": [
  {
   "cell_type": "markdown",
   "metadata": {},
   "source": [
    "快速排序（Quicksort）是对冒泡排序的一种改进。\n",
    "\n",
    "快速排序算法通过多次比较和交换来实现排序，其排序流程如下：\n",
    "\n",
    "(1)首先设定一个分界值，通过该分界值将数组分成左右两部分。\n",
    "\n",
    "(2)将大于或等于分界值的数据集中到数组右边，小于分界值的数据集中到数组的左边。此时，左边部分中各元素都小于或等于分界值，而右边部分中各元素都大于或等于分界值。\n",
    "\n",
    "(3)然后，左边和右边的数据可以独立排序。对于左侧的数组数据，又可以取一个分界值，将该部分数据分成左右两部分，同样在左边放置较小值，右边放置较大值。右侧的数组数据也可以做类似处理。\n",
    "\n",
    "(4)重复上述过程，可以看出，这是一个递归定义。通过递归将左侧部分排好序后，再递归排好右侧部分的顺序。当左、右两个部分各数据排序完成后，整个数组的排序也就完成了。"
   ]
  },
  {
   "cell_type": "code",
   "execution_count": 3,
   "metadata": {},
   "outputs": [],
   "source": [
    "def quick_sort2(l):\n",
    "    if l == []:\n",
    "        return []\n",
    "    basic = l[0]\n",
    "    less = quick_sort2([i for i in l[1:] if i <= basic])\n",
    "    more = quick_sort2([i for i in l[1:] if i > basic])\n",
    "    return less + [basic] + more"
   ]
  },
  {
   "cell_type": "markdown",
   "metadata": {},
   "source": [
    "取一个基准值,将比它小的放在它的左边,比它大的放在它的右边.然后左右递归.\n",
    "\n",
    "用分治法提高了效率."
   ]
  },
  {
   "cell_type": "code",
   "execution_count": 1,
   "metadata": {},
   "outputs": [],
   "source": [
    "def quick_sort(sort_list,start_index,end_index):\n",
    "    print(sort_list)\n",
    "    #如果角标左侧小于右侧则开始排序，否则退出（递归的‘归’），忘写就会死循环。\n",
    "    #我之前以为有下面的i<j就不用判断了，但那是不对的，两码事。\n",
    "    if start_index < end_index:\n",
    "        #基准值从左侧取第一个，这个很重要，关系到下面指针移动的顺序\n",
    "        basic, i, j = sort_list[start_index],start_index,end_index\n",
    "        while i < j:#保证左侧的index一定比右侧的小\n",
    "            #先移动右侧的指针，因为基准值在左侧，当左右指针重合时，跟基准值交换位置的值应该小于基准值\n",
    "            while i < j and sort_list[j] >= basic:\n",
    "            #while sort_list[j] > basic:(?)\n",
    "            #这里的i<j不能省略，因为循环里上一次j-1后有可能等于i\n",
    "                j -= 1\n",
    "            while i < j and sort_list[i] <= basic:\n",
    "                #这里的i<j不能省略，因为i+1后有可能等于j\n",
    "                i += 1\n",
    "            sort_list[i], sort_list[j] = sort_list[j], sort_list[i]\n",
    "        #将基准值换到i，j汇合点\n",
    "        sort_list[start_index], sort_list[i] = sort_list[i],sort_list[start_index]\n",
    "        #左边递归\n",
    "        quick_sort(sort_list, start_index, i-1)\n",
    "        #右边递归\n",
    "        quick_sort(sort_list, i+1, end_index)"
   ]
  },
  {
   "cell_type": "code",
   "execution_count": 5,
   "metadata": {},
   "outputs": [],
   "source": [
    "def quick_sort3(l):\n",
    "    if l == []:return []\n",
    "    return quick_sort3([i for i in l[1:] if i <= l[0]]) + [l[0]] + quick_sort3([i for i in l[1:] if i > l[0]])"
   ]
  },
  {
   "cell_type": "code",
   "execution_count": 3,
   "metadata": {},
   "outputs": [
    {
     "name": "stdout",
     "output_type": "stream",
     "text": [
      "[10, 7, 8, 11, 29, 5, 2, 54, 1, 5, 12, 17]\n",
      "[2, 7, 8, 5, 1, 5, 10, 54, 29, 11, 12, 17]\n",
      "[1, 2, 8, 5, 7, 5, 10, 54, 29, 11, 12, 17]\n",
      "[1, 2, 8, 5, 7, 5, 10, 54, 29, 11, 12, 17]\n",
      "[1, 2, 5, 5, 7, 8, 10, 54, 29, 11, 12, 17]\n",
      "[1, 2, 5, 5, 7, 8, 10, 54, 29, 11, 12, 17]\n",
      "[1, 2, 5, 5, 7, 8, 10, 54, 29, 11, 12, 17]\n",
      "[1, 2, 5, 5, 7, 8, 10, 54, 29, 11, 12, 17]\n",
      "[1, 2, 5, 5, 7, 8, 10, 54, 29, 11, 12, 17]\n",
      "[1, 2, 5, 5, 7, 8, 10, 17, 29, 11, 12, 54]\n",
      "[1, 2, 5, 5, 7, 8, 10, 11, 12, 17, 29, 54]\n",
      "[1, 2, 5, 5, 7, 8, 10, 11, 12, 17, 29, 54]\n",
      "[1, 2, 5, 5, 7, 8, 10, 11, 12, 17, 29, 54]\n",
      "[1, 2, 5, 5, 7, 8, 10, 11, 12, 17, 29, 54]\n",
      "[1, 2, 5, 5, 7, 8, 10, 11, 12, 17, 29, 54]\n",
      "None\n"
     ]
    }
   ],
   "source": [
    "l = [10,7,8,11,29,5,2,54,1,5,12,17]\n",
    "sl = quick_sort(l,0,len(l)-1)\n",
    "print(sl)"
   ]
  },
  {
   "cell_type": "markdown",
   "metadata": {},
   "source": [
    "## 性能分析\n",
    "快速排序的一次划分算法从两头交替搜索，直到low和hight重合，因此其时间复杂度是O(n)；而整个快速排序算法的时间复杂度与划分的趟数有关。\n",
    "理想的情况是，每次划分所选择的中间数恰好将当前序列几乎等分，经过log2n趟划分，便可得到长度为1的子表。这样，整个算法的时间复杂度为O(nlog2n)。\n",
    "\n",
    "最坏的情况是，每次所选的中间数是当前序列中的最大或最小元素，这使得每次划分所得的子表中一个为空表，另一子表的长度为原表的长度-1。这样，长度为n的数据表的快速排序需要经过n趟划分，使得整个排序算法的时间复杂度为O(n2)。\n",
    "\n",
    "为改善最坏情况下的时间性能，可采用其他方法选取中间数。通常采用“三者值取中”方法，即比较H->r[low].key、H->r[high].key与H->r[(low+high)/2].key，取三者中关键字为中值的元素为中间数。\n",
    "\n",
    "可以证明，快速排序的平均时间复杂度也是O(nlog2n)。因此，该排序方法被认为是目前最好的一种内部排序方法。\n",
    "\n",
    "从空间性能上看，尽管快速排序只需要一个元素的辅助空间，但快速排序需要一个栈空间来实现递归。最好的情况下，即快速排序的每一趟排序都将元素序列均匀地分割成长度相近的两个子表，所需栈的最大深度为log2(n+1)；但最坏的情况下，栈的最大深度为n。这样，快速排序的空间复杂度为O(log2n)。"
   ]
  },
  {
   "cell_type": "code",
   "execution_count": 72,
   "metadata": {},
   "outputs": [],
   "source": [
    "def quickSort(l):\n",
    "    i = 0\n",
    "    j = len(l) - 1\n",
    "    if i < j:\n",
    "        while i < j:\n",
    "            while i < j and l[j] >= l[0]:\n",
    "                j -= 1\n",
    "            while i < j and l[i] <= l[0]:\n",
    "                i += 1\n",
    "            l[i], l[j] = l[j], l[i]\n",
    "            print(l)\n",
    "        l[i], l[0] = l[0], l[i]\n",
    "        print(l)\n",
    "        left = quickSort(l[:i])\n",
    "        r = quickSort(l[i+1:])\n",
    "        return left + [l[i]] + r\n",
    "    return l"
   ]
  },
  {
   "cell_type": "code",
   "execution_count": 21,
   "metadata": {},
   "outputs": [
    {
     "name": "stdout",
     "output_type": "stream",
     "text": [
      "[7, 8, 29, 5, 2, 54, 1, 5, 17]\n",
      "[2, 5, 1, 5, 7, 54, 29, 8, 17]\n",
      "[1, 2, 5, 5, 7, 54, 29, 8, 17]\n",
      "[1, 2, 5, 5, 7, 54, 29, 8, 17]\n",
      "[1, 2, 5, 5, 7, 54, 29, 8, 17]\n",
      "[1, 2, 5, 5, 7, 54, 29, 8, 17]\n",
      "[1, 2, 5, 5, 7, 54, 29, 8, 17]\n",
      "[1, 2, 5, 5, 7, 17, 29, 8, 54]\n",
      "[1, 2, 5, 5, 7, 8, 17, 29, 54]\n",
      "[1, 2, 5, 5, 7, 8, 17, 29, 54]\n",
      "[1, 2, 5, 5, 7, 8, 17, 29, 54]\n"
     ]
    }
   ],
   "source": [
    "l = [7,8,29,5,2,54,1,5,17]\n",
    "quick_sort(l,0,len(l)-1)"
   ]
  }
 ],
 "metadata": {
  "kernelspec": {
   "display_name": "Python 3",
   "language": "python",
   "name": "python3"
  },
  "language_info": {
   "codemirror_mode": {
    "name": "ipython",
    "version": 3
   },
   "file_extension": ".py",
   "mimetype": "text/x-python",
   "name": "python",
   "nbconvert_exporter": "python",
   "pygments_lexer": "ipython3",
   "version": "3.7.6"
  }
 },
 "nbformat": 4,
 "nbformat_minor": 2
}
